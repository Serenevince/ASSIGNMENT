{
  "nbformat": 4,
  "nbformat_minor": 0,
  "metadata": {
    "colab": {
      "provenance": []
    },
    "kernelspec": {
      "name": "python3",
      "display_name": "Python 3"
    },
    "language_info": {
      "name": "python"
    }
  },
  "cells": [
    {
      "cell_type": "code",
      "execution_count": null,
      "metadata": {
        "colab": {
          "base_uri": "https://localhost:8080/"
        },
        "id": "fvf1d67CtEHC",
        "outputId": "a9813ab8-3844-4477-a445-87055083f6d2"
      },
      "outputs": [
        {
          "output_type": "stream",
          "name": "stdout",
          "text": [
            "Enter length =5\n",
            "Enter width =2\n",
            "Area of rectangle = 10\n"
          ]
        }
      ],
      "source": [
        "a=int(input(\"Enter length =\"))\n",
        "b=int(input(\"Enter width =\"))\n",
        "area=a*b\n",
        "print(\"Area of rectangle =\", area)"
      ]
    },
    {
      "cell_type": "code",
      "source": [
        "a=int(input(\"Enter first number=\"))\n",
        "b=int(input(\"Enter second number=\"))\n",
        "Sum=a+b\n",
        "Difference=a-b\n",
        "Product=a*b\n",
        "Quotient=a/b\n",
        "print(\"Sum =\", Sum )\n",
        "print(\"Difference =\", Difference)\n",
        "print(\"Product =\", Product)\n",
        "print(\"Quotient =\", Quotient)"
      ],
      "metadata": {
        "colab": {
          "base_uri": "https://localhost:8080/"
        },
        "id": "vdrKOk_AtNJn",
        "outputId": "94881e66-5dfe-4185-9e4f-52dbeedb23bc"
      },
      "execution_count": null,
      "outputs": [
        {
          "output_type": "stream",
          "name": "stdout",
          "text": [
            "Enter first number=10\n",
            "Enter second number=5\n",
            "Sum = 15\n",
            "Difference = 5\n",
            "Product = 50\n",
            "Quotient = 2.0\n"
          ]
        }
      ]
    },
    {
      "cell_type": "code",
      "source": [
        "temp=input('Enter the value of temperature in F/C =')\n",
        "if temp[-1]=='F':\n",
        "  print('The value of the temperature in Celsius is ',(((int(temp[:-1]))-32)*5)/9)\n",
        "elif temp[-1]=='C':\n",
        "  print('The value of the temperature in Fahrenheit is ',(((int(temp[:-1]))*9)/5) + 32)\n",
        "else:\n",
        "  print('Invalid Entry')"
      ],
      "metadata": {
        "colab": {
          "base_uri": "https://localhost:8080/"
        },
        "id": "TusKhgJwtZ7N",
        "outputId": "c74b2c46-b9a7-48cf-f71c-156077f34d0c"
      },
      "execution_count": null,
      "outputs": [
        {
          "output_type": "stream",
          "name": "stdout",
          "text": [
            "Enter the value of temperature in F/C =28F\n",
            "The value of the temperature in Celsius is  -2.2222222222222223\n"
          ]
        }
      ]
    },
    {
      "cell_type": "code",
      "source": [
        "z=int(input('Enter a number ='))\n",
        "if z>0:\n",
        "  print(\"The number is positive\")\n",
        "elif z<0:\n",
        "  print(\"The number is negative\")\n",
        "elif z==0:\n",
        "  print(\"The number is zero\")\n",
        "else:\n",
        " print(\"Invalid\")"
      ],
      "metadata": {
        "colab": {
          "base_uri": "https://localhost:8080/"
        },
        "id": "eiun0eNftf58",
        "outputId": "f0ac14e8-2b3c-4f9f-9085-c5743a6e7612"
      },
      "execution_count": null,
      "outputs": [
        {
          "output_type": "stream",
          "name": "stdout",
          "text": [
            "Enter a number =6\n",
            "The number is positive\n"
          ]
        }
      ]
    },
    {
      "cell_type": "code",
      "source": [
        "year=int(input('Enter the year '))\n",
        "if year%4==0 and year%100!=0:\n",
        "  print('The year is a leap year')\n",
        "elif year%400==0:\n",
        "  print('The year is a leap year')\n",
        "else:\n",
        "  print('The year is not a leap year')"
      ],
      "metadata": {
        "colab": {
          "base_uri": "https://localhost:8080/"
        },
        "id": "UvMOXoZUt1QO",
        "outputId": "b9f50032-3979-49d2-ef87-5b58f7a85d06"
      },
      "execution_count": null,
      "outputs": [
        {
          "output_type": "stream",
          "name": "stdout",
          "text": [
            "Enter the year 2040\n",
            "The year is a leap year\n"
          ]
        }
      ]
    },
    {
      "cell_type": "code",
      "source": [
        "mark=int(input(\"Enter marks obtained =\"))\n",
        "if mark >=90 and mark<=100:\n",
        "  print(\"Your grade is A\")\n",
        "elif mark >=80 and mark<=89:\n",
        "  print(\"Your grade is B\")\n",
        "elif mark >=70 and mark<=79:\n",
        "  print(\"Your grade is C\")\n",
        "elif mark >=60 and mark<=69:\n",
        "  print(\"Your grade is D\")\n",
        "elif mark >=0and mark<=59:\n",
        "  print(\"Your grade is F\")\n",
        "else:\n",
        "  print(\"Invalid\")"
      ],
      "metadata": {
        "colab": {
          "base_uri": "https://localhost:8080/"
        },
        "id": "6Ww5Y14Xt_zG",
        "outputId": "9304eb74-d31d-45af-f3ab-6f8727ed1851"
      },
      "execution_count": 12,
      "outputs": [
        {
          "output_type": "stream",
          "name": "stdout",
          "text": [
            "Enter marks obtained =67\n",
            "Your grade is D\n"
          ]
        }
      ]
    },
    {
      "cell_type": "code",
      "source": [
        "for num in range(10,0,-1):\n",
        "  print(num)\n"
      ],
      "metadata": {
        "colab": {
          "base_uri": "https://localhost:8080/"
        },
        "id": "fOCNmheJuEo7",
        "outputId": "811020cd-361c-4bf5-e97f-7da1cae101ea"
      },
      "execution_count": null,
      "outputs": [
        {
          "output_type": "stream",
          "name": "stdout",
          "text": [
            "10\n",
            "9\n",
            "8\n",
            "7\n",
            "6\n",
            "5\n",
            "4\n",
            "3\n",
            "2\n",
            "1\n"
          ]
        }
      ]
    },
    {
      "cell_type": "code",
      "source": [
        "for n in range(2,22,2):\n",
        "  print(n)"
      ],
      "metadata": {
        "colab": {
          "base_uri": "https://localhost:8080/"
        },
        "id": "lFRgoK56uIxj",
        "outputId": "a802e702-4202-4994-9444-30a70f6e56e8"
      },
      "execution_count": null,
      "outputs": [
        {
          "output_type": "stream",
          "name": "stdout",
          "text": [
            "2\n",
            "4\n",
            "6\n",
            "8\n",
            "10\n",
            "12\n",
            "14\n",
            "16\n",
            "18\n",
            "20\n"
          ]
        }
      ]
    },
    {
      "cell_type": "code",
      "source": [
        "n= int(input(\"Enter the number = \"))\n",
        "for i in range(1,11):\n",
        "  print(n,\"X\",i,\"=\",n*i)"
      ],
      "metadata": {
        "colab": {
          "base_uri": "https://localhost:8080/"
        },
        "id": "QB3oR6cluJeb",
        "outputId": "b00b1e31-46ac-455f-9501-d601075798dc"
      },
      "execution_count": null,
      "outputs": [
        {
          "output_type": "stream",
          "name": "stdout",
          "text": [
            "Enter the number = 5\n",
            "5 X 1 = 5\n",
            "5 X 2 = 10\n",
            "5 X 3 = 15\n",
            "5 X 4 = 20\n",
            "5 X 5 = 25\n",
            "5 X 6 = 30\n",
            "5 X 7 = 35\n",
            "5 X 8 = 40\n",
            "5 X 9 = 45\n",
            "5 X 10 = 50\n"
          ]
        }
      ]
    },
    {
      "cell_type": "code",
      "source": [],
      "metadata": {
        "id": "PoPefWU8uMg7"
      },
      "execution_count": null,
      "outputs": []
    }
  ]
}